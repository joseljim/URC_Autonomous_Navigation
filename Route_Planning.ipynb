{
 "nbformat": 4,
 "nbformat_minor": 0,
 "metadata": {
  "colab": {
   "name": "JLO.ipynb",
   "provenance": [],
   "collapsed_sections": [
    "YyGGQvhMYTYz",
    "gmv56QvAaOHi",
    "CdP2t68zYJD-"
   ]
  },
  "kernelspec": {
   "display_name": "Python 3",
   "name": "python3"
  },
  "language_info": {
   "name": "python"
  },
  "accelerator": "GPU"
 },
 "cells": [
  {
   "cell_type": "code",
   "metadata": {
    "id": "hLwIVsQaZClT",
    "executionInfo": {
     "status": "ok",
     "timestamp": 1638312797196,
     "user_tz": 360,
     "elapsed": 16083,
     "user": {
      "displayName": "Eduardo García Olmos",
      "photoUrl": "https://lh3.googleusercontent.com/a/default-user=s64",
      "userId": "12989527908234890146"
     }
    }
   },
   "source": [
    "\"\"\"\n",
    "MIT License\n",
    "\n",
    "Copyright (c) 2022 José Luis Jiménez Arévalo, Eduardo García Olmos, Perla Vanessa Jaime Gaytan\n",
    "\n",
    "Permission is hereby granted, free of charge, to any person obtaining a copy of this software and associated documentation files\n",
    "(the \"Software\"), to deal in the Software without restriction, including without limitation the rights to use, copy, modify, merge,\n",
    "publish, distribute, sublicense, and/or sell copies of the Software, and to permit persons to whom the Software is furnished to do so,\n",
    "subject to the following conditions:\n",
    "\n",
    "The above copyright notice and this permission notice shall be included in all copies or substantial portions of the Software.\n",
    "\n",
    "THE SOFTWARE IS PROVIDED \"AS IS\", WITHOUT WARRANTY OF ANY KIND, EXPRESS OR IMPLIED, INCLUDING BUT NOT LIMITED TO THE WARRANTIES OF\n",
    "MERCHANTABILITY, FITNESS FOR A PARTICULAR PURPOSE AND NONINFRINGEMENT. IN NO EVENT SHALL THE AUTHORS OR COPYRIGHT HOLDERS BE LIABLE\n",
    "FOR ANY CLAIM, DAMAGES OR OTHER LIABILITY, WHETHER IN AN ACTION OF CONTRACT, TORT OR OTHERWISE, ARISING FROM, OUT OF OR IN CONNECTION\n",
    "WITH THE SOFTWARE OR THE USE OR OTHER DEALINGS IN THE SOFTWARE.\n",
    "\n",
    "\"\"\"\n",
    "#------------------------------------------------------------------------------------------------------------------\n",
    "#   Installs\n",
    "#------------------------------------------------------------------------------------------------------------------\n",
    "#pip install richdem\n",
    "#pip install pickle5\n",
    "#pip install simpleai\n",
    "\n",
    "#------------------------------------------------------------------------------------------------------------------\n",
    "#   Imports\n",
    "#------------------------------------------------------------------------------------------------------------------\n",
    "from pathlib import Path\n",
    "import copy\n",
    "import math\n",
    "import matplotlib\n",
    "import matplotlib.cm as cm\n",
    "import matplotlib.patches as mpatches\n",
    "import matplotlib.pyplot as plt\n",
    "import numpy as np\n",
    "import os\n",
    "import pickle\n",
    "import plotly.graph_objects as px\n",
    "import random\n",
    "import richdem as rd\n",
    "from datetime import datetime\n",
    "from matplotlib.colors import LightSource\n",
    "from matplotlib.path import Path\n",
    "from matplotlib.widgets import RadioButtons\n",
    "from scipy.spatial.distance import pdist, squareform\n",
    "from scipy.stats import kurtosis, skew\n",
    "from skimage.feature import graycomatrix, graycoprops\n",
    "from skimage.transform import downscale_local_mean\n",
    "from sklearn import datasets \n",
    "from sklearn import linear_model\n",
    "from sklearn import preprocessing\n",
    "from sklearn import svm\n",
    "from sklearn.cluster import AgglomerativeClustering\n",
    "from sklearn.cluster import SpectralClustering\n",
    "from sklearn.discriminant_analysis import LinearDiscriminantAnalysis\n",
    "from sklearn.metrics import confusion_matrix\n",
    "from sklearn.metrics import mean_squared_error, r2_score\n",
    "from sklearn.metrics import silhouette_score\n",
    "from sklearn.model_selection import cross_validate\n",
    "from sklearn.model_selection import StratifiedKFold\n",
    "from sklearn.neighbors import KNeighborsClassifier\n",
    "from sklearn.neural_network import MLPClassifier\n",
    "from sklearn.neural_network import MLPRegressor\n",
    "from sklearn.tree import DecisionTreeClassifier"
   ],
   "execution_count": 9,
   "outputs": []
  },
  {
   "cell_type": "markdown",
   "metadata": {
    "id": "gmv56QvAaOHi"
   },
   "source": [
    "# Classification\n"
   ]
  },
  {
   "cell_type": "code",
   "metadata": {
    "id": "l7tVOyxn2lyS",
    "executionInfo": {
     "status": "ok",
     "timestamp": 1638312826977,
     "user_tz": 360,
     "elapsed": 29784,
     "user": {
      "displayName": "Eduardo García Olmos",
      "photoUrl": "https://lh3.googleusercontent.com/a/default-user=s64",
      "userId": "12989527908234890146"
     }
    }
   },
   "source": [
    "file_name = '/Users/joseluisjimenez/Desktop/Desktop_MacBook_Pro/Tec/ITE/10º/Proyecto_integral/URC_Route_Planning/Resources/navigability.obj'\n",
    "inputFile = open(file_name, 'rb')\n",
    "data = pickle.load(inputFile)\n",
    "n_img = len(data)\n",
    "\n",
    "#------------------------------------------------------------------------------------------------------------------\n",
    "#   Process features of each image\n",
    "#------------------------------------------------------------------------------------------------------------------\n",
    "\n",
    "feature_names = ['Max slope','Mean slope','Slope variance','Slope skewness','Slope kurtosis',\n",
    "                 'Max depression','Mean depression','Depression variance','Depression skewness',\n",
    "                 'Depression kurtosis',\n",
    "                 'Max rise','Mean rise','Rise variance','Rise skewness','Rise kurtosis',\n",
    "                 'GLCM - Disimilaridad','GLCM - Correlación']\n",
    "n_features = len(feature_names)\n",
    "\n",
    "features = np.zeros([n_img, n_features])\n",
    "original_labels = np.zeros([n_img])\n",
    "\n",
    "for i in range(n_img):\n",
    "\n",
    "    original_labels[i] = data[i][0]\n",
    "    \n",
    "    # Slope\n",
    "    slope = data[i][3]\n",
    "    features[i, 2] = slope.max()\n",
    "    features[i, 3] = slope.mean()\n",
    "    features[i, 4] = slope.var()\n",
    "    features[i, 5] = skew(slope.flatten())\n",
    "    features[i, 6] = kurtosis(slope.flatten()) \n",
    "\n",
    "    # Depression\n",
    "    depression = data[i][4]\n",
    "    features[i, 7] = depression.max()\n",
    "    features[i, 8] = depression.mean()\n",
    "    features[i, 9] = depression.var()\n",
    "    features[i, 10] = skew(depression.flatten())\n",
    "    features[i, 11] = kurtosis(depression.flatten())\n",
    "\n",
    "    # Rise\n",
    "    rise = data[i][5]    \n",
    "    features[i, 12] = rise.max()\n",
    "    features[i, 13] = rise.mean()\n",
    "    features[i, 14] = rise.var()\n",
    "    features[i, 15] = skew(rise.flatten())\n",
    "    features[i, 16] = kurtosis(rise.flatten())\n",
    "\n",
    "    # Data\n",
    "    surface = (data[i][2]-data[i][2].min()).astype(int)\n",
    "    glcm = graycomatrix(surface, distances=[5], angles=[0], levels=1024,\n",
    "                        symmetric=True, normed=True)\n",
    "    features[i, 0] = graycoprops(glcm, 'dissimilarity')[0,0]\n",
    "    features[i, 1] = graycoprops(glcm, 'correlation')[0,0]\n",
    "\n",
    "#------------------------------------------------------------------------------------------------------------------\n",
    "#   Calculate feature averages per class\n",
    "#------------------------------------------------------------------------------------------------------------------    \n",
    "\n",
    "labels = original_labels.copy()\n",
    "classes = np.unique(labels)\n",
    "n_classes = len(classes)\n",
    "class_names = [str(int(c)) for c in classes]\n",
    "\n",
    "feature_means = np.zeros([n_classes, n_features])\n",
    "\n",
    "for i in range(n_classes):\n",
    "    for j in range(n_features):\n",
    "        feature_means[i, j] = features[labels == classes[i], j].mean()\n",
    "# Feature plots\n",
    "cols = 5\n",
    "rows = int(n_features/cols) + (n_features%cols>0)\n",
    "#fig, axs = plt.subplots(rows,cols)\n",
    "\n",
    "#for i in range(n_features):\n",
    "#    r = int(i/cols)\n",
    "#    c = i-r*cols\n",
    "#    \n",
    "#    values = [row[i] for row in feature_means]\n",
    "#    axs[r][c].bar(class_names, values)\n",
    "#    axs[r][c].set_title(feature_names[i])\n",
    "\n",
    "#for i in range(n_features, rows*cols):\n",
    "#    r = int(i/cols)\n",
    "#    c = i - r*cols\n",
    "#    axs[r, c].axis('off')\n",
    "\n",
    "#fig.suptitle(\"Feature values\")\n",
    "#plt.show()\n",
    "\n",
    "labels = original_labels.copy()\n",
    "labels[labels==2] = 1\n",
    "labels[labels==3] = 4\n",
    "n_classes = len(np.unique(labels))"
   ],
   "execution_count": 11,
   "outputs": []
  },
  {
   "cell_type": "code",
   "metadata": {
    "id": "QU5ZXEHAG9Vw",
    "executionInfo": {
     "status": "ok",
     "timestamp": 1638312837524,
     "user_tz": 360,
     "elapsed": 10550,
     "user": {
      "displayName": "Eduardo García Olmos",
      "photoUrl": "https://lh3.googleusercontent.com/a/default-user=s64",
      "userId": "12989527908234890146"
     }
    }
   },
   "source": [
    "%%capture\n",
    "#------------------------------------------------------------------------------------------------------------------\n",
    "#   Classification model (SVM lineal)\n",
    "#------------------------------------------------------------------------------------------------------------------\n",
    "  \n",
    "nfolds = 5\n",
    "kf = StratifiedKFold(n_splits=nfolds, shuffle = True)\n",
    "clf = svm.SVC(kernel = 'linear')\n",
    "\n",
    "acc = 0\n",
    "recall = [0]*n_classes\n",
    "precision = [0]*n_classes\n",
    "\n",
    "for train_index, test_index in kf.split(features, labels):\n",
    "    \n",
    "    # Training phase    \n",
    "    x_train = features[train_index, :]    \n",
    "    y_train = labels[train_index]    \n",
    "    clf.fit(x_train, y_train)    \n",
    "\n",
    "    # Test phase    \n",
    "    x_test = features[test_index, :]    \n",
    "    y_test = labels[test_index]        \n",
    "    y_pred = clf.predict(x_test)\n",
    "    print(y_pred)\n",
    "    \n",
    "    # Calculate confusion matrix and model performance    \n",
    "    cm = confusion_matrix(y_test, y_pred)    \n",
    "    #print('Confusion matrix\\n', cm)\n",
    "    \n",
    "    #print(cm)\n",
    "    \n",
    "    acc_i = sum(cm[i][i] for i in range(n_classes))/len(y_test)\n",
    "    acc += acc_i\n",
    "    \n",
    "    recall_i = [0]*n_classes\n",
    "    precision_i = [0]*n_classes\n",
    "    for m in range(n_classes):\n",
    "        recall_i[m] = cm[m][m] / sum(cm[m][i] for i in range(n_classes))\n",
    "        precision_i[m] = cm[m][m] / sum(cm[i][m] for i in range(n_classes))\n",
    "        \n",
    "        recall[m] += recall_i[m]\n",
    "        precision[m] += precision_i[m]\n",
    "        \n",
    "    #print('Accuracy = ', acc_i)\n",
    "    #print('Recall = ', recall_i)\n",
    "    #print('Precision = ', precision_i)\n",
    "\n",
    "cv_results = cross_validate(clf, features, labels, cv=nfolds, scoring = ('accuracy', 'recall_micro'))\n",
    "accuracy = cv_results['test_accuracy'].sum()/nfolds \n",
    "\n",
    "print('Accuracy using cross-validation: ', accuracy)\n",
    "acc = acc/nfolds\n",
    "print('Accuracy = ', acc)\n",
    "\n",
    "recall = [i/nfolds for i in recall]\n",
    "print('Recall = ', recall)\n",
    "\n",
    "precision = [i/nfolds for i in precision]\n",
    "print('Precision = ', precision)"
   ],
   "execution_count": 12,
   "outputs": []
  },
  {
   "cell_type": "markdown",
   "metadata": {
    "id": "CdP2t68zYJD-"
   },
   "source": [
    "# 20x20"
   ]
  },
  {
   "cell_type": "code",
   "metadata": {
    "id": "-IOyiOP_i3Nw",
    "executionInfo": {
     "status": "ok",
     "timestamp": 1638312839093,
     "user_tz": 360,
     "elapsed": 1572,
     "user": {
      "displayName": "Eduardo García Olmos",
      "photoUrl": "https://lh3.googleusercontent.com/a/default-user=s64",
      "userId": "12989527908234890146"
     }
    }
   },
   "source": [
    "#------------------------------------------------------------------------------------------------------------------\n",
    "#   Configuration\n",
    "#------------------------------------------------------------------------------------------------------------------\n",
    "\n",
    "file_name = \"/Users/joseluisjimenez/Desktop/Desktop_MacBook_Pro/Tec/ITE/10º/Proyecto_integral/URC_Route_Planning/Resources/map.IMG\"   # Data file\n",
    "n_img = 5                           # Number of images\n",
    "subimg_size = 20                    # Image size\n",
    "\n",
    "\n",
    "#------------------------------------------------------------------------------------------------------------------\n",
    "#   Surface map\n",
    "#------------------------------------------------------------------------------------------------------------------\n",
    "\n",
    "data_file = open(file_name, \"rb\")\n",
    "\n",
    "endHeader = False;\n",
    "while not endHeader:\n",
    "    line = data_file.readline().rstrip().lower()\n",
    "\n",
    "    sep_line = line.split(b'=')\n",
    "       \n",
    "    if len(sep_line) == 2:\n",
    "        itemName = sep_line[0].rstrip().lstrip()\n",
    "        itemValue = sep_line[1].rstrip().lstrip()\n",
    "\n",
    "        if itemName == b'valid_maximum':\n",
    "            maxV = float(itemValue)\n",
    "        elif itemName == b'valid_minimum':\n",
    "            minV = float(itemValue)\n",
    "        elif itemName == b'lines':\n",
    "            n_rows = int(itemValue)\n",
    "        elif itemName == b'line_samples':\n",
    "            n_columns = int(itemValue)\n",
    "        elif itemName == b'map_scale':\n",
    "            scale_str = itemValue.split()\n",
    "            if len(scale_str) > 1:\n",
    "                scale = float(scale_str[0])\n",
    "\n",
    "    elif line == b'end':\n",
    "        endHeader = True\n",
    "        char = 0\n",
    "        while char == 0 or char == 32:\n",
    "            char = data_file.read(1)[0]      \n",
    "        pos = data_file.seek(-1, 1)\n",
    "\n",
    "image_size = n_rows*n_columns\n",
    "data = data_file.read(4*image_size)\n",
    "\n",
    "surface = np.frombuffer(data, dtype=np.dtype('f'))\n",
    "surface = surface.reshape((n_rows, n_columns))\n",
    "surface = np.array(surface)\n",
    "surface = surface.astype('float64')\n",
    "\n",
    "surface = surface - minV;\n",
    "surface[surface < -10000] = -1;"
   ],
   "execution_count": 13,
   "outputs": []
  },
  {
   "cell_type": "code",
   "metadata": {
    "id": "EEmCy9ptL0QX",
    "executionInfo": {
     "status": "ok",
     "timestamp": 1638312839094,
     "user_tz": 360,
     "elapsed": 3,
     "user": {
      "displayName": "Eduardo García Olmos",
      "photoUrl": "https://lh3.googleusercontent.com/a/default-user=s64",
      "userId": "12989527908234890146"
     }
    }
   },
   "source": [
    "# workaround was needed\n",
    "inputFile = open('/Users/joseluisjimenez/Desktop/Desktop_MacBook_Pro/Tec/ITE/10º/Proyecto_integral/URC_Route_Planning/Resources/processed.obj', 'rb')\n",
    "processed_data = pickle.load(inputFile)\n",
    "slope = processed_data[0]\n",
    "depression = processed_data[1]\n",
    "rise = processed_data[2]"
   ],
   "execution_count": 14,
   "outputs": []
  },
  {
   "cell_type": "code",
   "metadata": {
    "id": "sGmjNTabpsca",
    "executionInfo": {
     "status": "ok",
     "timestamp": 1638312840180,
     "user_tz": 360,
     "elapsed": 1089,
     "user": {
      "displayName": "Eduardo García Olmos",
      "photoUrl": "https://lh3.googleusercontent.com/a/default-user=s64",
      "userId": "12989527908234890146"
     }
    }
   },
   "source": [
    "#------------------------------------------------------------------------------------------------------------------\n",
    "#   Subsampling\n",
    "#------------------------------------------------------------------------------------------------------------------\n",
    "sub_rate = round(10/scale)            \n",
    "surface = downscale_local_mean(surface, (sub_rate, sub_rate))\n",
    "surface[surface<0] = -1\n",
    "\n",
    "new_scale = scale*sub_rate\n",
    "new_n_rows = surface.shape[0]\n",
    "new_n_columns = surface.shape[1]\n",
    "maxZ = maxV - minV"
   ],
   "execution_count": 15,
   "outputs": []
  },
  {
   "cell_type": "code",
   "metadata": {
    "id": "5exIfSApo6h-",
    "executionInfo": {
     "status": "ok",
     "timestamp": 1638312842005,
     "user_tz": 360,
     "elapsed": 1826,
     "user": {
      "displayName": "Eduardo García Olmos",
      "photoUrl": "https://lh3.googleusercontent.com/a/default-user=s64",
      "userId": "12989527908234890146"
     }
    }
   },
   "source": [
    "%%capture\n",
    "#------------------------------------------------------------------------------------------------------------------\n",
    "#   Show surfaces\n",
    "#------------------------------------------------------------------------------------------------------------------\n",
    "ls = LightSource(315, 45)\n",
    "\n",
    "cmap = copy.copy(plt.cm.get_cmap('hot'))\n",
    "cmap.set_under(color='white')   \n",
    "\n",
    "cmap2 = copy.copy(plt.cm.get_cmap('jet'))\n",
    "cmap2.set_under(color='white') \n",
    "\n",
    "fig = plt.figure(figsize=(20, 10))\n",
    "grid = plt.GridSpec(1, 4)\n",
    "\n",
    "ax1 = fig.add_subplot(grid[0:,0])\n",
    "rgb = ls.shade(surface, cmap=cmap, vmin = 0, vmax = maxZ, vert_exag=2, blend_mode='hsv')\n",
    "im = ax1.imshow(rgb, cmap=cmap, vmin = 0, vmax = maxZ, extent =[0, scale*n_columns, 0, scale*n_rows], \n",
    "                interpolation ='nearest', origin ='upper')\n",
    "ax1.set_title('Map')\n",
    "ax1.set_xlabel('x (m)')\n",
    "ax1.set_ylabel('y (m)')\n",
    "fig.colorbar(im, orientation=\"horizontal\", pad=0.1, ax=ax1)\n",
    "\n",
    "ax2 = fig.add_subplot(grid[0:,1])\n",
    "im = ax2.imshow(slope, cmap=cmap2, vmin = 0, vmax = 5, extent =[0, scale*n_columns, 0, scale*n_rows], \n",
    "                interpolation ='nearest', origin ='upper')\n",
    "ax2.set_title('Slope')\n",
    "ax2.set_xlabel('x (m)')\n",
    "ax2.set_ylabel('y (m)')\n",
    "fig.colorbar(im, orientation=\"horizontal\", pad=0.1, ax=ax2)\n",
    "\n",
    "ax3 = fig.add_subplot(grid[0:,2])\n",
    "im = ax3.imshow(depression, cmap=cmap2, vmin = 0.0, vmax = 20, extent =[0, scale*n_columns, 0, scale*n_rows], \n",
    "                interpolation ='nearest', origin ='upper')\n",
    "ax3.set_title('Depressions')\n",
    "ax3.set_xlabel('x (m)')\n",
    "ax3.set_ylabel('y (m)')\n",
    "fig.colorbar(im, orientation=\"horizontal\", pad=0.1, ax=ax3)\n",
    "\n",
    "ax4 = fig.add_subplot(grid[0:,3])\n",
    "im = ax4.imshow(rise, cmap=cmap2, vmin = 0.0, vmax = 20, extent =[0, scale*n_columns, 0, scale*n_rows], \n",
    "                interpolation ='nearest', origin ='upper')\n",
    "ax4.set_title('Elevations')\n",
    "ax4.set_xlabel('x (m)')\n",
    "ax4.set_ylabel('y (m)')\n",
    "fig.colorbar(im, orientation=\"horizontal\", pad=0.1, ax=ax4)\n",
    "\n",
    "plt.show()"
   ],
   "execution_count": 16,
   "outputs": []
  },
  {
   "cell_type": "code",
   "metadata": {
    "id": "o7JJyfbYwYmK",
    "executionInfo": {
     "status": "ok",
     "timestamp": 1638312843540,
     "user_tz": 360,
     "elapsed": 1539,
     "user": {
      "displayName": "Eduardo García Olmos",
      "photoUrl": "https://lh3.googleusercontent.com/a/default-user=s64",
      "userId": "12989527908234890146"
     }
    }
   },
   "source": [
    "%%capture\n",
    "ls = LightSource(315, 45)\n",
    "\n",
    "for i in range(1):\n",
    "\n",
    "    valid_image = False\n",
    "    while not valid_image:\n",
    "        #subimg_row = random.randint(0, new_n_rows-1)\n",
    "        #subimg_column = random.randint(0, new_n_columns-1)\n",
    "        subimg_row = 0\n",
    "        subimg_column = 20\n",
    "        if (subimg_row + subimg_size) < new_n_rows and (subimg_column + subimg_size) < new_n_columns:        \n",
    "            surface_section = surface[subimg_row:(subimg_row+subimg_size), subimg_column:(subimg_column+subimg_size)]\n",
    "            #if surface_section.min() > 0:\n",
    "            slope_section = slope[subimg_row:(subimg_row+subimg_size), subimg_column:(subimg_column+subimg_size)]\n",
    "            depression_section = depression[subimg_row:(subimg_row+subimg_size), subimg_column:(subimg_column+subimg_size)]\n",
    "            rise_section = rise[subimg_row:(subimg_row+subimg_size), subimg_column:(subimg_column+subimg_size)]\n",
    "            valid_image = True\n",
    "\n",
    "    rect_y = new_scale*(new_n_rows - subimg_row - subimg_size)\n",
    "    rect_x = new_scale*subimg_column\n",
    "    rect_size = subimg_size*new_scale\n",
    "    rect=mpatches.Rectangle((rect_x, rect_y), rect_size, rect_size, fill = False, color = \"purple\", linewidth = 3)\n",
    "\n",
    "\n",
    "    fig = plt.figure(figsize=(20, 10))\n",
    "    grid = plt.GridSpec(2, 3)\n",
    "\n",
    "    ax1 = fig.add_subplot(grid[0:,0])\n",
    "    rgb = ls.shade(surface, cmap=cmap, vmin = 0, vmax = maxZ, vert_exag=2, blend_mode='hsv')\n",
    "    im = ax1.imshow(rgb, cmap=cmap, vmin = 0, vmax = maxZ, extent =[0, scale*n_columns, 0, scale*n_rows], \n",
    "                    interpolation ='nearest', origin ='upper')\n",
    "    ax1.set_title('Mapa')\n",
    "    ax1.set_xlabel('x (m)')\n",
    "    ax1.set_ylabel('y (m)')    \n",
    "    ax1.add_patch(rect)\n",
    "\n",
    "    ax2 = fig.add_subplot(grid[0,1])\n",
    "    rgb = ls.shade(surface_section, cmap=cmap, vmin = 0, vmax = maxZ, vert_exag=2, blend_mode='hsv')\n",
    "    im = ax2.imshow(rgb, cmap=cmap, vmin = 0, vmax = maxZ, interpolation ='nearest', origin ='upper')\n",
    "    ax2.set_title('Sección del mapa')\n",
    "    ax2.axis(\"off\")\n",
    "\n",
    "    ax3 = fig.add_subplot(grid[0,2])    \n",
    "    im = ax3.imshow(slope_section, cmap=cmap2, vmin = 0, vmax = 5, interpolation ='nearest', origin ='upper')\n",
    "    ax3.set_title('Pendiente')\n",
    "    ax3.axis(\"off\")\n",
    "\n",
    "    ax4 = fig.add_subplot(grid[1,1])    \n",
    "    im = ax4.imshow(depression_section, cmap=cmap2, vmin = 0, vmax = 20, interpolation ='nearest', origin ='upper')\n",
    "    ax4.set_title('Depresiones')\n",
    "    ax4.axis(\"off\")\n",
    "\n",
    "    ax5 = fig.add_subplot(grid[1,2])    \n",
    "    im = ax5.imshow(rise_section, cmap=cmap2, vmin = 0, vmax = 20, interpolation ='nearest', origin ='upper')\n",
    "    ax5.set_title('Elevaciones')\n",
    "    ax5.axis(\"off\")\n",
    "\n",
    "    plt.show()\n",
    "\n",
    "    data_to_predict = (1, maxZ, surface_section, slope_section, depression_section, rise_section)\n"
   ],
   "execution_count": 17,
   "outputs": []
  },
  {
   "cell_type": "code",
   "metadata": {
    "id": "lb8PNoOy2aAZ",
    "executionInfo": {
     "status": "ok",
     "timestamp": 1638312843541,
     "user_tz": 360,
     "elapsed": 4,
     "user": {
      "displayName": "Eduardo García Olmos",
      "photoUrl": "https://lh3.googleusercontent.com/a/default-user=s64",
      "userId": "12989527908234890146"
     }
    }
   },
   "source": [
    "%%capture\n",
    "#------------------------------------------------------------------------------------------------------------------\n",
    "#   Process features of each image\n",
    "#------------------------------------------------------------------------------------------------------------------\n",
    "\n",
    "feature_names = ['Max slope','Mean slope','Slope variance','Slope skewness','Slope kurtosis',\n",
    "                 'Max depression','Mean depression','Depression variance','Depression skewness',\n",
    "                 'Depression kurtosis',\n",
    "                 'Max rise','Mean rise','Rise variance','Rise skewness','Rise kurtosis',\n",
    "                 'GLCM - Disimilaridad','GLCM - Correlación']\n",
    "n_features = len(feature_names)\n",
    "\n",
    "n_img = 1\n",
    "\n",
    "features = np.zeros([n_img, n_features])\n",
    "original_labels = np.zeros([n_img])\n",
    "\n",
    "for i in range(n_img):\n",
    "\n",
    "    #print(\"**********\")\n",
    "    #print(\"Image\", i+1)\n",
    "    #original_labels[i] = data[i][0]\n",
    "    \n",
    "    # Slope\n",
    "    slope_sample = data_to_predict[3]\n",
    "    features[i, 2] = slope_sample.max()\n",
    "    features[i, 3] = slope_sample.mean()\n",
    "    features[i, 4] = slope_sample.var()\n",
    "    features[i, 5] = skew(slope_sample.flatten())\n",
    "    features[i, 6] = kurtosis(slope_sample.flatten())\n",
    "    \n",
    "    print(\"Max slope: \", features[i, 2])\n",
    "    print(\"Min slope: \", features[i, 3])\n",
    "    print(\"Slope variance: \", features[i, 4])\n",
    "    print(\"Slope skewness: \", features[i, 5])    \n",
    "    print(\"Slope kurtosis: \", features[i, 6])   \n",
    "\n",
    "    # Depression\n",
    "    depression_sample = data_to_predict[4]\n",
    "    features[i, 7] = depression_sample.max()\n",
    "    features[i, 8] = depression_sample.mean()\n",
    "    features[i, 9] = depression_sample.var()\n",
    "    features[i, 10] = skew(depression_sample.flatten())\n",
    "    features[i, 11] = kurtosis(depression_sample.flatten())\n",
    "    \n",
    "    print(\"Max depression: \", features[i, 7])\n",
    "    print(\"Min depression: \", features[i, 8])\n",
    "    print(\"Depression variance: \", features[i, 9])\n",
    "    print(\"Depression skewness: \", features[i, 10])    \n",
    "    print(\"Depression kurtosis: \", features[i, 11])    \n",
    "\n",
    "    # Rise\n",
    "    rise_sample = data_to_predict[5]    \n",
    "    features[i, 12] = rise_sample.max()\n",
    "    features[i, 13] = rise_sample.mean()\n",
    "    features[i, 14] = rise_sample.var()\n",
    "    features[i, 15] = skew(rise_sample.flatten())\n",
    "    features[i, 16] = kurtosis(rise_sample.flatten())\n",
    "    \n",
    "    print(\"Max rise: \", features[i, 12])\n",
    "    print(\"Min rise: \", features[i, 13])\n",
    "    print(\"Rise variance: \", features[i, 14])\n",
    "    print(\"Rise skewness: \", features[i, 15])    \n",
    "    print(\"Rise kurtosis: \", features[i, 16]) \n",
    "\n",
    "    # Data\n",
    "    surf = (data_to_predict[2]-data_to_predict[2].min()).astype(int)\n",
    "    glcm = graycomatrix(surf, distances=[5], angles=[0], levels=1024,\n",
    "                        symmetric=True, normed=True)\n",
    "    features[i, 0] = graycoprops(glcm, 'dissimilarity')[0,0]\n",
    "    features[i, 1] = graycoprops(glcm, 'correlation')[0,0]\n",
    "    \n",
    "    print(\"GLCM - Disimilaridad: \", features[i, 0])\n",
    "    print(\"GLCM - Correlación: \", features[i, 1])"
   ],
   "execution_count": 18,
   "outputs": []
  },
  {
   "cell_type": "code",
   "metadata": {
    "id": "nXXXdIMOPsWs",
    "executionInfo": {
     "status": "ok",
     "timestamp": 1638312843541,
     "user_tz": 360,
     "elapsed": 3,
     "user": {
      "displayName": "Eduardo García Olmos",
      "photoUrl": "https://lh3.googleusercontent.com/a/default-user=s64",
      "userId": "12989527908234890146"
     }
    }
   },
   "source": [
    "surface_copy = surface\n",
    "slope_copy = slope\n",
    "depression_copy = depression\n",
    "rise_copy = rise"
   ],
   "execution_count": 19,
   "outputs": []
  },
  {
   "cell_type": "code",
   "metadata": {
    "id": "5-1KoX4kAU7C",
    "executionInfo": {
     "status": "ok",
     "timestamp": 1638312843938,
     "user_tz": 360,
     "elapsed": 400,
     "user": {
      "displayName": "Eduardo García Olmos",
      "photoUrl": "https://lh3.googleusercontent.com/a/default-user=s64",
      "userId": "12989527908234890146"
     }
    }
   },
   "source": [
    "map_array = np.load('/Users/joseluisjimenez/Desktop/Desktop_MacBook_Pro/Tec/ITE/10º/Proyecto_integral/URC_Route_Planning/Resources/map.npy')\n",
    "map_array_nav = np.load('/Users/joseluisjimenez/Desktop/Desktop_MacBook_Pro/Tec/ITE/10º/Proyecto_integral/URC_Route_Planning/Resources/map.npy')\n",
    "map_array_navidad = np.load('/Users/joseluisjimenez/Desktop/Desktop_MacBook_Pro/Tec/ITE/10º/Proyecto_integral/URC_Route_Planning/Resources/map.npy')\n",
    "\n",
    "filas = map_array.shape[0]\n",
    "columnas = map_array.shape[1]\n",
    "\n",
    "subfilas = int(filas/20)\n",
    "subcolumnas = int(columnas/20)\n"
   ],
   "execution_count": 20,
   "outputs": []
  },
  {
   "cell_type": "code",
   "metadata": {
    "id": "2I4XYapD9A01",
    "executionInfo": {
     "status": "ok",
     "timestamp": 1638312929149,
     "user_tz": 360,
     "elapsed": 85213,
     "user": {
      "displayName": "Eduardo García Olmos",
      "photoUrl": "https://lh3.googleusercontent.com/a/default-user=s64",
      "userId": "12989527908234890146"
     }
    }
   },
   "source": [
    "for i in range(subfilas):\n",
    "    subimg_row = 20*i\n",
    "    for j in range(subcolumnas):\n",
    "        subimg_column = 20*j\n",
    "        #print(subimg_row, subimg_column)\n",
    "        surface_section = surface[subimg_row:(subimg_row+subimg_size), subimg_column:(subimg_column+subimg_size)]\n",
    "        if surface_section.min() > 0:\n",
    "            # seccion de 20x20 completa\n",
    "            slope_section = slope[subimg_row:(subimg_row+subimg_size), subimg_column:(subimg_column+subimg_size)]\n",
    "            depression_section = depression[subimg_row:(subimg_row+subimg_size), subimg_column:(subimg_column+subimg_size)]\n",
    "            rise_section = rise[subimg_row:(subimg_row+subimg_size), subimg_column:(subimg_column+subimg_size)]\n",
    "\n",
    "            data_to_predict = (1, maxZ, surface_section, slope_section, depression_section, rise_section)\n",
    "\n",
    "            features = np.zeros([1, n_features])\n",
    "            slope_sample = data_to_predict[3]\n",
    "            features[0, 2] = slope_sample.max()\n",
    "            features[0, 3] = slope_sample.mean()\n",
    "            features[0, 4] = slope_sample.var()\n",
    "            features[0, 5] = skew(slope_sample.flatten())\n",
    "            features[0, 6] = kurtosis(slope_sample.flatten())\n",
    "            depression_sample = data_to_predict[4]\n",
    "            features[0, 7] = depression_sample.max()\n",
    "            features[0, 8] = depression_sample.mean()\n",
    "            features[0, 9] = depression_sample.var()\n",
    "            features[0, 10] = skew(depression_sample.flatten())\n",
    "            features[0, 11] = kurtosis(depression_sample.flatten())\n",
    "            rise_sample = data_to_predict[5]    \n",
    "            features[0, 12] = rise_sample.max()\n",
    "            features[0, 13] = rise_sample.mean()\n",
    "            features[0, 14] = rise_sample.var()\n",
    "            features[0, 15] = skew(rise_sample.flatten())\n",
    "            features[0, 16] = kurtosis(rise_sample.flatten())\n",
    "            surf = (data_to_predict[2]-data_to_predict[2].min()).astype(int)\n",
    "            glcm = graycomatrix(surf, distances=[5], angles=[0], levels=1024,\n",
    "                                symmetric=True, normed=True)\n",
    "            features[0, 0] = graycoprops(glcm, 'dissimilarity')[0,0]\n",
    "            features[0, 1] = graycoprops(glcm, 'correlation')[0,0]\n",
    "\n",
    "            predicted = clf.predict(features)\n",
    "           \n",
    "            #print(predicted)\n",
    "            # fill 20x20 portion with -1 to indicate Non-navigable\n",
    "            out_of_bounds = 0\n",
    "            ready = 0\n",
    "            #while(ready != 1):\n",
    "            for m in range(20):\n",
    "              for n in range(20):\n",
    "                  if((map_array_nav[subimg_row+m][subimg_column+n] != -1)):\n",
    "                    if (predicted == 1): # Non-navigable\n",
    "                      map_array_nav[subimg_row+m][subimg_column+n] = 4\n",
    "                    if (predicted == 4): # Navigable\n",
    "                      map_array_nav[subimg_row+m][subimg_column+n] = 1\n",
    "                  #ready = 1 if n >= 20 else 0\n",
    "        #else:\n",
    "            # 20x20 incomplete section\n",
    "            # print('empty')\n"
   ],
   "execution_count": 21,
   "outputs": []
  },
  {
   "cell_type": "code",
   "metadata": {
    "colab": {
     "base_uri": "https://localhost:8080/",
     "height": 0
    },
    "id": "74aDX1EIQtZ2",
    "executionInfo": {
     "status": "ok",
     "timestamp": 1638313016402,
     "user_tz": 360,
     "elapsed": 87262,
     "user": {
      "displayName": "Eduardo García Olmos",
      "photoUrl": "https://lh3.googleusercontent.com/a/default-user=s64",
      "userId": "12989527908234890146"
     }
    },
    "outputId": "806681be-93ad-46c2-a568-08dd90426151"
   },
   "source": [
    "# Classified Mars Surface Plot\n",
    "\n",
    "for i in range(subfilas):\n",
    "    subimg_row = 20*i\n",
    "    for j in range(subcolumnas):\n",
    "        subimg_column = 20*j\n",
    "        surface_section = surface[subimg_row:(subimg_row+subimg_size), subimg_column:(subimg_column+subimg_size)]\n",
    "        if surface_section.min() > 0:\n",
    "            # 20x20 complete section\n",
    "            slope_section = slope[subimg_row:(subimg_row+subimg_size), subimg_column:(subimg_column+subimg_size)]\n",
    "            depression_section = depression[subimg_row:(subimg_row+subimg_size), subimg_column:(subimg_column+subimg_size)]\n",
    "            rise_section = rise[subimg_row:(subimg_row+subimg_size), subimg_column:(subimg_column+subimg_size)]\n",
    "\n",
    "            data_to_predict = (1, maxZ, surface_section, slope_section, depression_section, rise_section)\n",
    "\n",
    "            features = np.zeros([1, n_features])\n",
    "            slope_sample = data_to_predict[3]\n",
    "            features[0, 2] = slope_sample.max()\n",
    "            features[0, 3] = slope_sample.mean()\n",
    "            features[0, 4] = slope_sample.var()\n",
    "            features[0, 5] = skew(slope_sample.flatten())\n",
    "            features[0, 6] = kurtosis(slope_sample.flatten())\n",
    "            depression_sample = data_to_predict[4]\n",
    "            features[0, 7] = depression_sample.max()\n",
    "            features[0, 8] = depression_sample.mean()\n",
    "            features[0, 9] = depression_sample.var()\n",
    "            features[0, 10] = skew(depression_sample.flatten())\n",
    "            features[0, 11] = kurtosis(depression_sample.flatten())\n",
    "            rise_sample = data_to_predict[5]    \n",
    "            features[0, 12] = rise_sample.max()\n",
    "            features[0, 13] = rise_sample.mean()\n",
    "            features[0, 14] = rise_sample.var()\n",
    "            features[0, 15] = skew(rise_sample.flatten())\n",
    "            features[0, 16] = kurtosis(rise_sample.flatten())\n",
    "            surf = (data_to_predict[2]-data_to_predict[2].min()).astype(int)\n",
    "            glcm = graycomatrix(surf, distances=[5], angles=[0], levels=1024,\n",
    "                                symmetric=True, normed=True)\n",
    "            features[0, 0] = graycoprops(glcm, 'dissimilarity')[0,0]\n",
    "            features[0, 1] = graycoprops(glcm, 'correlation')[0,0]\n",
    "\n",
    "            predicted = clf.predict(features)\n",
    "           \n",
    "            #print(predicted)\n",
    "            # fill 20x20 portion with -1 to indicate non-navigable\n",
    "            out_of_bounds = 0\n",
    "            ready = 0\n",
    "            #while(ready != 1):\n",
    "            for m in range(20):\n",
    "              for n in range(20):\n",
    "                  if((map_array_navidad[subimg_row+m][subimg_column+n] != -1)):\n",
    "                    if (predicted == 1): # Non-navigable\n",
    "                      map_array_navidad[subimg_row+m][subimg_column+n] = 50\n",
    "                    if (predicted == 4): # Navigable\n",
    "                      map_array_navidad[subimg_row+m][subimg_column+n] = 450\n",
    "                  #ready = 1 if n >= 20 else 0\n",
    "        #else:\n",
    "            # 20x20 incomplete section\n",
    "            # print('empty')\n",
    "\n",
    "\n",
    "\n",
    "scale = 10.017330185711\n",
    "n_rows = map_array.shape[0]\n",
    "n_columns = map_array_navidad.shape[1]\n",
    "\n",
    "cmap = copy.copy(plt.cm.get_cmap('RdYlGn'))\n",
    "cmap.set_under(color='black')   \n",
    "\n",
    "ls = LightSource(315, 0)\n",
    "rgb = ls.shade(map_array_navidad, cmap=cmap, vmin = 0, vmax = map_array_navidad.max(), vert_exag=2, blend_mode='hsv')\n",
    "\n",
    "fig, ax = plt.subplots()\n",
    "\n",
    "im = ax.imshow(rgb, cmap=cmap, vmin = 0, vmax = map_array_navidad.max(), \n",
    "                extent =[0, scale*n_columns, 0, scale*n_rows], \n",
    "                interpolation ='nearest', origin ='upper')\n",
    "\n",
    "cbar = fig.colorbar(im, ax=ax)\n",
    "cbar.ax.set_ylabel('Height (m)')\n",
    "\n",
    "plt.title('Mars Surface')\n",
    "plt.xlabel('x (m)')\n",
    "plt.ylabel('y (m)')\n",
    "\n",
    "plt.show()\n"
   ],
   "execution_count": 22,
   "outputs": [
    {
     "data": {
      "text/plain": "<Figure size 432x288 with 2 Axes>",
      "image/png": "[encoded data removed]"
     },
     "metadata": {
      "needs_background": "light"
     },
     "output_type": "display_data"
    }
   ]
  },
  {
   "cell_type": "markdown",
   "metadata": {
    "id": "sTJrjAYRYbky"
   },
   "source": [
    "# Rute Planning"
   ]
  },
  {
   "cell_type": "code",
   "metadata": {
    "colab": {
     "base_uri": "https://localhost:8080/",
     "height": 295
    },
    "id": "mmvfs4JrlLAt",
    "executionInfo": {
     "status": "ok",
     "timestamp": 1638313017498,
     "user_tz": 360,
     "elapsed": 1100,
     "user": {
      "displayName": "Eduardo García Olmos",
      "photoUrl": "https://lh3.googleusercontent.com/a/default-user=s64",
      "userId": "12989527908234890146"
     }
    },
    "outputId": "04e719e9-1643-4064-ddca-6c2f0efc0585"
   },
   "source": [
    "#------------------------------------------------------------------------------------------------------------------\n",
    "#   Mars map test \n",
    "#------------------------------------------------------------------------------------------------------------------\n",
    "\n",
    "#------------------------------------------------------------------------------------------------------------------\n",
    "#   Load map data\n",
    "#------------------------------------------------------------------------------------------------------------------\n",
    "#image_data = np.load('map.npy')\n",
    "image_data = map_array\n",
    "scale = 10.017330185711\n",
    "n_rows = image_data.shape[0]\n",
    "n_columns = image_data.shape[1]\n",
    "\n",
    "#------------------------------------------------------------------------------------------------------------------\n",
    "#   Show data\n",
    "#------------------------------------------------------------------------------------------------------------------\n",
    "\n",
    "cmap = copy.copy(plt.cm.get_cmap('autumn'))\n",
    "cmap.set_under(color='black')   \n",
    "\n",
    "ls = LightSource(315, 45)\n",
    "rgb = ls.shade(image_data, cmap=cmap, vmin = 0, vmax = image_data.max(), vert_exag=2, blend_mode='hsv')\n",
    "\n",
    "fig, ax = plt.subplots()\n",
    "\n",
    "im = ax.imshow(rgb, cmap=cmap, vmin = 0, vmax = image_data.max(), \n",
    "                extent =[0, scale*n_columns, 0, scale*n_rows], \n",
    "                interpolation ='nearest', origin ='upper')\n",
    "\n",
    "cbar = fig.colorbar(im, ax=ax)\n",
    "cbar.ax.set_ylabel('Height (m)')\n",
    "\n",
    "plt.title('Mars Surface')\n",
    "plt.xlabel('x (m)')\n",
    "plt.ylabel('y (m)')\n",
    "\n",
    "plt.show()"
   ],
   "execution_count": 23,
   "outputs": [
    {
     "data": {
      "text/plain": "<Figure size 432x288 with 2 Axes>",
      "image/png": "[encoded data removed]"
     },
     "metadata": {
      "needs_background": "light"
     },
     "output_type": "display_data"
    }
   ]
  },
  {
   "cell_type": "code",
   "metadata": {
    "id": "vGkJH3bKUqxP",
    "executionInfo": {
     "status": "ok",
     "timestamp": 1638313017499,
     "user_tz": 360,
     "elapsed": 5,
     "user": {
      "displayName": "Eduardo García Olmos",
      "photoUrl": "https://lh3.googleusercontent.com/a/default-user=s64",
      "userId": "12989527908234890146"
     }
    }
   },
   "source": [
    "# convert from x map coordinate to image_data column\n",
    "def x2col(x):\n",
    "    return int(np.round(x/scale))\n",
    "\n",
    "# convert from y map coordinate to image_data row\n",
    "def y2row(y):\n",
    "    return int(n_rows - np.round(y/scale))\n",
    "\n",
    "# convert from image_data column to x coordinate in map\n",
    "def col2x(col):\n",
    "    return col*scale\n",
    "\n",
    "# convert from image_data row to y coordinate in map\n",
    "def row2y(row):\n",
    "    return (n_rows-row)*scale"
   ],
   "execution_count": 24,
   "outputs": []
  },
  {
   "cell_type": "code",
   "metadata": {
    "id": "7-zhhNyjUYzi",
    "executionInfo": {
     "status": "ok",
     "timestamp": 1638313017745,
     "user_tz": 360,
     "elapsed": 251,
     "user": {
      "displayName": "Eduardo García Olmos",
      "photoUrl": "https://lh3.googleusercontent.com/a/default-user=s64",
      "userId": "12989527908234890146"
     }
    }
   },
   "source": [
    "# function to print a zoomed map with a route\n",
    "def zoom_map(x1, y1, x2, y2, way):\n",
    "    # in map:\n",
    "    #       |------------(x2,y2)\n",
    "    #       |               |\n",
    "    #       |               |\n",
    "    #   (x1,y1)-------------|\n",
    "    # in array:\n",
    "    #   (col1,row2)---------|\n",
    "    #       |               |\n",
    "    #       |               |\n",
    "    #       |----------(col2,row1)\n",
    "    col1 = x2col(x1)\n",
    "    col2 = x2col(x2)\n",
    "    row1 = y2row(y1)\n",
    "    row2 = y2row(y2)\n",
    "    zoom_area = []\n",
    "    for i in range(row2, row1):\n",
    "        temp = []\n",
    "        for j in range(col1, col2):\n",
    "            temp.append(image_data[i][j])\n",
    "        zoom_area.append(temp)\n",
    "    \n",
    "    # crop area of image_data \n",
    "    zoomed_map = np.array(zoom_area)\n",
    "\n",
    "    cmap = copy.copy(plt.cm.get_cmap('autumn'))\n",
    "    cmap.set_under(color='black')   \n",
    "    ls = LightSource(315, 45)\n",
    "    rgb = ls.shade(zoomed_map, cmap=cmap, vmin = 0, vmax = zoomed_map.max(), vert_exag=2, blend_mode='hsv')\n",
    "    fig, ax = plt.subplots()\n",
    "    im = ax.imshow(rgb, cmap=cmap, vmin = 0, vmax = zoomed_map.max(), \n",
    "                        extent =[x1, x2, y1, y2],                       # change extent to desired zoom area\n",
    "                        interpolation ='nearest', origin ='upper')\n",
    "    cbar = fig.colorbar(im, ax=ax)\n",
    "    cbar.ax.set_ylabel('Height (m)')\n",
    "    plt.title('Mars Surface')\n",
    "    plt.xlabel('x (m)')\n",
    "    plt.ylabel('y (m)')\n",
    "\n",
    "    # print route \n",
    "    for i in range(len(way)):\n",
    "        plt.plot(np.round(col2x(way[i][0])), np.round(row2y(way[i][1])), \".b\", markersize=3)\n",
    "\n",
    "    plt.show()\n",
    "\n",
    "def zoom_map_navidad(x1, y1, x2, y2, way):\n",
    "    # in map:\n",
    "    #       |------------(x2,y2)\n",
    "    #       |               |\n",
    "    #       |               |\n",
    "    #   (x1,y1)-------------|\n",
    "    # in array:\n",
    "    #   (col1,row2)---------|\n",
    "    #       |               |\n",
    "    #       |               |\n",
    "    #       |----------(col2,row1)\n",
    "    col1 = x2col(x1)\n",
    "    col2 = x2col(x2)\n",
    "    row1 = y2row(y1)\n",
    "    row2 = y2row(y2)\n",
    "    zoom_area = []\n",
    "    for i in range(row2, row1):\n",
    "        temp = []\n",
    "        for j in range(col1, col2):\n",
    "            temp.append(map_array_navidad[i][j])\n",
    "        zoom_area.append(temp)\n",
    "    \n",
    "    # crop area of image_data \n",
    "    zoomed_map = np.array(zoom_area)\n",
    "\n",
    "    cmap = copy.copy(plt.cm.get_cmap('RdYlGn'))\n",
    "    cmap.set_under(color='black') \n",
    "    ls = LightSource(315, 0)\n",
    "    rgb = ls.shade(zoomed_map, cmap=cmap, vmin = 0, vmax = zoomed_map.max(), vert_exag=2, blend_mode='hsv')\n",
    "    fig, ax = plt.subplots()\n",
    "\n",
    "    im = ax.imshow(rgb, cmap=cmap, vmin = 0, vmax = zoomed_map.max(), \n",
    "                        extent =[x1, x2, y1, y2],                       # change extent to desired zoom area\n",
    "                        interpolation ='nearest', origin ='upper')\n",
    "    cbar = fig.colorbar(im, ax=ax)\n",
    "    cbar.ax.set_ylabel('Non-navigable - navigable')\n",
    "    plt.title('Classified Mars Surface')\n",
    "    plt.xlabel('x (m)')\n",
    "    plt.ylabel('y (m)')\n",
    "\n",
    "    # print route \n",
    "    for i in range(len(way)):\n",
    "        plt.plot(np.round(col2x(way[i][0])), np.round(row2y(way[i][1])), \".b\", markersize=3)\n",
    "\n",
    "    plt.show()\n",
    "\n",
    "# calculate the actual distance for a given path\n",
    "def path_distance(way):\n",
    "    cost = 0.0\n",
    "    for i in range(len(way)-1):\n",
    "        cost += math.sqrt((way[i][0]-way[i+1][0])**2+(way[i][1]-way[i+1][1])**2)\n",
    "    return cost*scale"
   ],
   "execution_count": 25,
   "outputs": []
  },
  {
   "cell_type": "code",
   "metadata": {
    "colab": {
     "base_uri": "https://localhost:8080/"
    },
    "id": "pLeFzdQwsAS1",
    "executionInfo": {
     "status": "ok",
     "timestamp": 1638313017746,
     "user_tz": 360,
     "elapsed": 13,
     "user": {
      "displayName": "Eduardo García Olmos",
      "photoUrl": "https://lh3.googleusercontent.com/a/default-user=s64",
      "userId": "12989527908234890146"
     }
    },
    "outputId": "7ee2dd34-dfb8-4d5f-8078-64211a228036"
   },
   "source": [
    "# get starting point row and column\n",
    "# (x,y) = (2850, 6400)\n",
    "column_i = x2col(2850)\n",
    "row_i = y2row(6400)\n",
    "\n",
    "# get final point row and column\n",
    "# (x,y) = (3150, 6800)\n",
    "column_f = x2col(3150)\n",
    "row_f = y2row(6800)\n",
    "\n",
    "print(\"Starting point (row, column): (\", row_i, \",\", column_i,\")\")\n",
    "print(\"Final point (row, column): (\", row_f, \",\", column_f, \")\")"
   ],
   "execution_count": 26,
   "outputs": [
    {
     "name": "stdout",
     "output_type": "stream",
     "text": [
      "Starting point (row, column): ( 1176 , 285 )\n",
      "Final point (row, column): ( 1136 , 314 )\n"
     ]
    }
   ]
  },
  {
   "cell_type": "code",
   "metadata": {
    "id": "j1Xejs8JMMiM",
    "executionInfo": {
     "status": "ok",
     "timestamp": 1638313017746,
     "user_tz": 360,
     "elapsed": 5,
     "user": {
      "displayName": "Eduardo García Olmos",
      "photoUrl": "https://lh3.googleusercontent.com/a/default-user=s64",
      "userId": "12989527908234890146"
     }
    }
   },
   "source": [
    "import time\n",
    "import math\n",
    "from simpleai.search import SearchProblem, astar, greedy, breadth_first, depth_first\n",
    "\n",
    "# Class containing the methods to solve the maze\n",
    "class MazeSolver(SearchProblem):\n",
    "\n",
    "    def __init__(self, board, xi, yi, xf, yf, max_height):      # Init class\n",
    "        self.board = board\n",
    "        self.initial = (x2col(xi), y2row(yi))   # convert initial and final points to indexes\n",
    "        self.goal = (x2col(xf), y2row(yf))\n",
    "        self.max_height = max_height            # max height difference between positions\n",
    "        \n",
    "        super(MazeSolver, self).__init__(initial_state=self.initial)\n",
    "\n",
    "    # Define the method that takes actions\n",
    "    # to arrive at the solution\n",
    "    def actions(self, state):\n",
    "        x, y = state\n",
    "        actions = []\n",
    "        for action in COSTS.keys():\n",
    "            newx, newy = self.result(state, action)\n",
    "            if self.board[newy][newx] != -1:\n",
    "                if (abs(self.board[y][x] - self.board[newy][newx]) < self.max_height):    \n",
    "                      actions.append(action)\n",
    "        return actions\n",
    "\n",
    "   # Update the state based on the action\n",
    "    def result(self, state, action):\n",
    "        x, y = state\n",
    "        \n",
    "        if action.count(\"up\"):\n",
    "            y -= 1\n",
    "        if action.count(\"down\"):\n",
    "            y += 1\n",
    "        if action.count(\"left\"):\n",
    "            x -= 1\n",
    "        if action.count(\"right\"):\n",
    "            x += 1\n",
    "\n",
    "        new_state = (x, y)\n",
    "        return new_state     \n",
    "\n",
    "    # Check if we have reached the goal\n",
    "    def is_goal(self, state):\n",
    "        return state == self.goal\n",
    "\n",
    "    # Compute the cost of taking an action\n",
    "    def cost(self, state, action, state2):\n",
    "        x, y = state\n",
    "        newx, newy = self.result(state, action)\n",
    "        if(map_array_nav[newy][newx]==4):\n",
    "          return COSTS[action]*2\n",
    "        else:\n",
    "          return COSTS[action]\n",
    "        \n",
    "\n",
    "        \n",
    "\n",
    "    # Heuristic that we use to arrive at the solution\n",
    "    def heuristic(self, state):\n",
    "        x, y = state\n",
    "        gx, gy = self.goal\n",
    "\n",
    "        return math.sqrt((x - gx) ** 2 + (y - gy) ** 2)\n",
    "\n",
    "if __name__ == \"__main__\":      # Define the maze\n",
    "    MAP = image_data.tolist()\n",
    "\n",
    "# Define cost of moving around the map\n",
    "cost_regular = 1.0\n",
    "cost_diagonal = 1.4\n",
    "\n",
    "# Create the cost dictionary\n",
    "\n",
    "COSTS = {\n",
    "    \"up\": cost_regular,\n",
    "    \"down\": cost_regular,\n",
    "    \"left\": cost_regular,\n",
    "    \"right\": cost_regular,\n",
    "    \"up left\": cost_diagonal,\n",
    "    \"up right\": cost_diagonal,\n",
    "    \"down left\": cost_diagonal,\n",
    "    \"down right\": cost_diagonal,\n",
    "}"
   ],
   "execution_count": 27,
   "outputs": []
  },
  {
   "cell_type": "code",
   "metadata": {
    "id": "be3C0IuQyXh0",
    "executionInfo": {
     "status": "ok",
     "timestamp": 1638313017747,
     "user_tz": 360,
     "elapsed": 5,
     "user": {
      "displayName": "Eduardo García Olmos",
      "photoUrl": "https://lh3.googleusercontent.com/a/default-user=s64",
      "userId": "12989527908234890146"
     }
    }
   },
   "source": [
    "# Create maze solver object\n",
    "#problem = MazeSolver(MAP, 2850, 6400, 3150, 6800, 0.25)\n",
    "problem = MazeSolver(MAP, 2000, 10000, 6000, 6300, 0.25)"
   ],
   "execution_count": 28,
   "outputs": []
  },
  {
   "cell_type": "code",
   "metadata": {
    "id": "5O0kchCtzx3S",
    "executionInfo": {
     "status": "ok",
     "timestamp": 1638313063831,
     "user_tz": 360,
     "elapsed": 46089,
     "user": {
      "displayName": "Eduardo García Olmos",
      "photoUrl": "https://lh3.googleusercontent.com/a/default-user=s64",
      "userId": "12989527908234890146"
     }
    }
   },
   "source": [
    "# A* search\n",
    "\n",
    "ti = time.time()\n",
    "\n",
    "# Run the solver\n",
    "result = astar(problem, graph_search=True)\n",
    " \n",
    "tf = time.time()          \n",
    "\n",
    "# Extract the path\n",
    "path = [x[1] for x in result.path()]\n"
   ],
   "execution_count": 29,
   "outputs": []
  },
  {
   "cell_type": "code",
   "metadata": {
    "colab": {
     "base_uri": "https://localhost:8080/",
     "height": 642
    },
    "id": "7sK4LHkDKWB-",
    "executionInfo": {
     "status": "ok",
     "timestamp": 1638313070291,
     "user_tz": 360,
     "elapsed": 6469,
     "user": {
      "displayName": "Eduardo García Olmos",
      "photoUrl": "https://lh3.googleusercontent.com/a/default-user=s64",
      "userId": "12989527908234890146"
     }
    },
    "outputId": "34cea5ae-fb72-4a40-c8e0-7e9034c2a77a"
   },
   "source": [
    "\n",
    "zoom_map(0, 0, scale*n_columns, scale*n_rows, path)\n",
    "zoom_map_navidad(0, 0, scale*n_columns, scale*n_rows, path)\n",
    "\n",
    "temp3 = 0 \n",
    "for i in range(len(path)):\n",
    "  temp1 = path[i][0]\n",
    "  temp2 = path[i][1]\n",
    "  if(map_array_nav[temp2][temp1] == 4):\n",
    "    temp3 += 1\n",
    "\n",
    "print(\"Points within non-navigable areas: \", temp3,\"/\",len(path))\n",
    "print(\"A* search\")\n",
    "print(\"Total time (s):\", tf-ti)\n",
    "print(\"Path distance (m):\", path_distance(path))"
   ],
   "execution_count": 30,
   "outputs": [
    {
     "data": {
      "text/plain": "<Figure size 432x288 with 2 Axes>",
      "image/png": "[encoded data removed]"
     },
     "metadata": {
      "needs_background": "light"
     },
     "output_type": "display_data"
    },
    {
     "data": {
      "text/plain": "<Figure size 432x288 with 2 Axes>",
      "image/png": "[encoded data removed]"
     },
     "metadata": {
      "needs_background": "light"
     },
     "output_type": "display_data"
    },
    {
     "name": "stdout",
     "output_type": "stream",
     "text": [
      "Points within non-navigable areas:  44 / 582\n",
      "A* search\n",
      "Total time (s): 21.572410821914673\n",
      "Path distance (m): 6961.130193863111\n"
     ]
    }
   ]
  },
  {
   "cell_type": "code",
   "metadata": {
    "colab": {
     "base_uri": "https://localhost:8080/",
     "height": 295
    },
    "id": "M_TZTXaWRI86",
    "executionInfo": {
     "status": "ok",
     "timestamp": 1638313073458,
     "user_tz": 360,
     "elapsed": 3169,
     "user": {
      "displayName": "Eduardo García Olmos",
      "photoUrl": "https://lh3.googleusercontent.com/a/default-user=s64",
      "userId": "12989527908234890146"
     }
    },
    "outputId": "3ab13e38-0f93-41d3-ea91-55a53e1c04e1"
   },
   "source": [
    "zoom_map(0, 0, scale*n_columns, scale*n_rows, path)"
   ],
   "execution_count": 31,
   "outputs": [
    {
     "data": {
      "text/plain": "<Figure size 432x288 with 2 Axes>",
      "image/png": "[encoded data removed]"
     },
     "metadata": {
      "needs_background": "light"
     },
     "output_type": "display_data"
    }
   ]
  },
  {
   "cell_type": "code",
   "execution_count": null,
   "outputs": [],
   "source": [],
   "metadata": {
    "collapsed": false,
    "pycharm": {
     "name": "#%%\n"
    }
   }
  }
 ]
}